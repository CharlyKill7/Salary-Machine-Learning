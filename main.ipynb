{
 "cells": [
  {
   "cell_type": "markdown",
   "id": "3e6cbf72",
   "metadata": {},
   "source": [
    "# IMPORTACIONES"
   ]
  },
  {
   "cell_type": "code",
   "execution_count": 1,
   "id": "7db4a183",
   "metadata": {},
   "outputs": [],
   "source": [
    "import warnings  \n",
    "warnings.filterwarnings('ignore')\n",
    "\n",
    "import pandas as pd\n",
    "import numpy as np\n",
    "import matplotlib.pyplot as plt\n",
    "import seaborn as sns"
   ]
  },
  {
   "cell_type": "markdown",
   "id": "1906460e",
   "metadata": {},
   "source": [
    "# EXTRACCIÓN DE DATOS "
   ]
  },
  {
   "cell_type": "code",
   "execution_count": 2,
   "id": "a6905872",
   "metadata": {},
   "outputs": [],
   "source": [
    "train = pd.read_csv('data/salaries_data.csv')\n",
    "test = pd.read_csv('data/testeo.csv')"
   ]
  },
  {
   "cell_type": "markdown",
   "id": "c27e200a",
   "metadata": {},
   "source": [
    "# LIMPIEZA BÁSICA"
   ]
  },
  {
   "cell_type": "code",
   "execution_count": 3,
   "id": "37604d11",
   "metadata": {},
   "outputs": [],
   "source": [
    "train['sal'] = train.salary_in_usd\n",
    "train = train.drop(['salary', 'salary_currency', 'salary_in_usd'], axis=1)"
   ]
  },
  {
   "cell_type": "markdown",
   "id": "c5978413",
   "metadata": {},
   "source": [
    "# TRANSFORMACION DE LOS DATOS"
   ]
  },
  {
   "cell_type": "markdown",
   "id": "92bea7fc",
   "metadata": {},
   "source": [
    "### TRAIN VS TEST"
   ]
  },
  {
   "cell_type": "code",
   "execution_count": 4,
   "id": "c97dd4e6",
   "metadata": {},
   "outputs": [
    {
     "data": {
      "text/plain": [
       "(['Principal Data Engineer',\n",
       "  'Principal Data Engineer',\n",
       "  'Principal Data Engineer',\n",
       "  'NLP Engineer'],\n",
       " ['CN', 'PH', 'DK', 'HR', 'IQ', 'CO', 'DK', 'AR', 'TN'],\n",
       " ['IT', 'HR', 'IQ', 'IL', 'RU', 'RU', 'CO', 'IT', 'MY'])"
      ]
     },
     "execution_count": 4,
     "metadata": {},
     "output_type": "execute_result"
    }
   ],
   "source": [
    "tr = train.drop('sal', axis=1)\n",
    "\n",
    "lst_year = [e for e in test.work_year if e not in tr.work_year.unique()]\n",
    "lst_experience_level = [e for e in test.experience_level if e not in tr.experience_level.unique()]\n",
    "lst_employment_type = [e for e in test.employment_type if e not in tr.employment_type.unique()]\n",
    "lst_job = [e for e in test.job_title if e not in tr.job_title.unique()]\n",
    "lst_emp_res = [e for e in test.employee_residence if e not in tr.employee_residence.unique()]\n",
    "lst_remo = [e for e in test.remote_ratio if e not in tr.remote_ratio.unique()]\n",
    "lst_loc = [e for e in test.company_location if e not in tr.company_location.unique()]\n",
    "lst_siz = [e for e in test.company_size if e not in tr.company_size.unique()]\n",
    "\n",
    "lst_job, lst_emp_res, lst_loc"
   ]
  },
  {
   "cell_type": "code",
   "execution_count": 5,
   "id": "d3f30a82",
   "metadata": {},
   "outputs": [],
   "source": [
    "# Transformación employee_residence\n",
    "paises_res = {'CN':'IN','PH':'MY', 'DK':'CH', 'HR':'RS', 'IQ':'IN', 'CO':'CL','AR':'BR','TN':'IN'}\n",
    "test['employee_residence'] = test['employee_residence'].replace(paises_res)\n",
    "# Transformación company_location\n",
    "paises_loc = {'IT': 'ES', 'HR': 'SI', 'IQ': 'AE', 'IL': 'ES', 'RU': 'UA', 'CO': 'MX', 'MY': 'IN'}\n",
    "test['company_location'] = test['company_location'].replace(paises_loc)\n",
    "#Tranformación job_title\n",
    "test.loc[[23, 39, 45, 79], 'job_title'] = ['Principal Data Analyst', 'Director of Data Engineering', \n",
    "                                           'Head of Data', 'Data Scientist']"
   ]
  },
  {
   "cell_type": "markdown",
   "id": "95a8c6ff",
   "metadata": {},
   "source": [
    "### ONE HOT ENCODING"
   ]
  },
  {
   "cell_type": "code",
   "execution_count": 6,
   "id": "3c8d5949",
   "metadata": {},
   "outputs": [],
   "source": [
    "# Transf TRAIN\n",
    "train2 = pd.get_dummies(train, columns=['remote_ratio', 'employment_type'], drop_first=False)\n",
    "# Transf TEST\n",
    "test2 = pd.get_dummies(test, columns=['remote_ratio', 'employment_type'], drop_first=False)\n",
    "\n",
    "train2 = train2.drop(['remote_ratio_0', 'employment_type_FL'], axis=1)\n",
    "test2 = test2.drop(['remote_ratio_0'], axis=1)"
   ]
  },
  {
   "cell_type": "markdown",
   "id": "fc81eac6",
   "metadata": {},
   "source": [
    "### ORDINAL ENCODING"
   ]
  },
  {
   "cell_type": "code",
   "execution_count": 7,
   "id": "690097aa",
   "metadata": {},
   "outputs": [],
   "source": [
    "from sklearn.preprocessing import OrdinalEncoder\n",
    "\n",
    "encoder_year = OrdinalEncoder()\n",
    "train2['work_year'] = encoder_year.fit_transform(train2[['work_year']])\n",
    "\n",
    "encoder_size = OrdinalEncoder(categories=[['S', 'M', 'L']])\n",
    "train2['company_size'] = encoder_size.fit_transform(train2[['company_size']])\n",
    "\n",
    "encoder_exp = OrdinalEncoder(categories=[['EN', 'MI', 'SE', 'EX']])\n",
    "train2['experience_level'] = encoder_exp.fit_transform(train2[['experience_level']])\n",
    "\n",
    "# Test Ordinal\n",
    "test2['work_year'] = encoder_year.transform(test2[['work_year']])\n",
    "test2['company_size'] = encoder_size.transform(test2[['company_size']])\n",
    "test2['experience_level'] = encoder_exp.transform(test2[['experience_level']])"
   ]
  },
  {
   "cell_type": "markdown",
   "id": "1800aab1",
   "metadata": {},
   "source": [
    "### TARGET ENCODING"
   ]
  },
  {
   "cell_type": "code",
   "execution_count": 8,
   "id": "bff1bbb6",
   "metadata": {},
   "outputs": [],
   "source": [
    "from category_encoders import TargetEncoder\n",
    "\n",
    "encoder_loc = TargetEncoder(cols=['company_location'], handle_unknown='ignore')\n",
    "train2_encoded = encoder_loc.fit_transform(train2[['sal', 'company_size', 'company_location']], train2['sal'])\n",
    "train2['company_location'] = train2_encoded.company_location\n",
    "#Test\n",
    "test2['sal'] = 0\n",
    "test2_encoded = encoder_loc.transform(test2[['sal', 'company_size', 'company_location']])\n",
    "test2['company_location'] = test2_encoded['company_location']\n",
    "\n",
    "encoder_job = TargetEncoder(cols=['job_title'], handle_unknown='ignore')\n",
    "train_encoded = encoder_job.fit_transform(train2, train2.sal)\n",
    "train2['job_title'] = train_encoded.job_title\n",
    "#Test\n",
    "test_encoded = encoder_job.transform(test2)\n",
    "test2['job_title'] = test_encoded.job_title\n",
    "\n",
    "encoder_res = TargetEncoder(cols=['employee_residence'], handle_unknown='ignore')\n",
    "train3 = encoder_res.fit_transform(train2[['sal','employee_residence','company_size', 'company_location']], train2['sal'])\n",
    "train2['employee_residence'] = train3.employee_residence\n",
    "#Test\n",
    "test3 = encoder_res.transform(test2[['sal','employee_residence','company_size', 'company_location']])\n",
    "test2['employee_residence'] = test3.employee_residence"
   ]
  },
  {
   "cell_type": "code",
   "execution_count": 9,
   "id": "14bdd1ad",
   "metadata": {},
   "outputs": [],
   "source": [
    "# Aquí pongo 'sal' al final del DF.\n",
    "col = train2.pop('sal')\n",
    "train2.insert(len(train2.columns), 'sal', col)"
   ]
  },
  {
   "cell_type": "code",
   "execution_count": 10,
   "id": "bafba15f",
   "metadata": {},
   "outputs": [],
   "source": [
    "train2 = train2[['experience_level', 'job_title', 'employee_residence', 'sal']]\n",
    "test2 = test2[['experience_level', 'job_title', 'employee_residence']]"
   ]
  },
  {
   "cell_type": "markdown",
   "id": "8240c9dc",
   "metadata": {},
   "source": [
    "# MACHINE LEARNING (REGRESORES)"
   ]
  },
  {
   "cell_type": "code",
   "execution_count": 11,
   "id": "bb05f82d",
   "metadata": {},
   "outputs": [],
   "source": [
    "import time\n",
    "from sklearn.model_selection import train_test_split as tts\n",
    "from sklearn.model_selection import GridSearchCV \n",
    "from sklearn.metrics import mean_squared_error"
   ]
  },
  {
   "cell_type": "code",
   "execution_count": 12,
   "id": "7904a48e",
   "metadata": {},
   "outputs": [],
   "source": [
    "X = train2.drop('sal', axis=1)\n",
    "y = train2.sal\n",
    "\n",
    "X_train, X_test, y_train, y_test = tts(X, y, test_size=0.2, random_state=42)"
   ]
  },
  {
   "cell_type": "code",
   "execution_count": 13,
   "id": "eaaff5ed",
   "metadata": {},
   "outputs": [
    {
     "name": "stdout",
     "output_type": "stream",
     "text": [
      "Modelo: ExtraTreesRegressor\n",
      "Mejores parámetros: {'max_depth': 5, 'n_estimators': 10}\n",
      "Acierto CV: 0.61\n",
      "Acierto en entrenamiento: 0.69\n",
      "Acierto en prueba: 0.41\n",
      "==================================================\n",
      "Modelo: GradientBoostingRegressor\n",
      "Mejores parámetros: {'learning_rate': 0.1, 'n_estimators': 100}\n",
      "Acierto CV: 0.61\n",
      "Acierto en entrenamiento: 0.82\n",
      "Acierto en prueba: 0.40\n",
      "==================================================\n",
      "Modelo: RandomForestRegressor\n",
      "Mejores parámetros: {'max_depth': 10, 'n_estimators': 50}\n",
      "Acierto CV: 0.59\n",
      "Acierto en entrenamiento: 0.84\n",
      "Acierto en prueba: 0.42\n",
      "==================================================\n",
      "Modelo: XGBRegressor\n",
      "Mejores parámetros: {'learning_rate': 0.01, 'n_estimators': 500}\n",
      "Acierto CV: 0.58\n",
      "Acierto en entrenamiento: 0.85\n",
      "Acierto en prueba: 0.44\n",
      "==================================================\n",
      "Modelo: Lasso\n",
      "Mejores parámetros: {'alpha': 0.1}\n",
      "Acierto CV: 0.57\n",
      "Acierto en entrenamiento: 0.59\n",
      "Acierto en prueba: 0.39\n",
      "==================================================\n"
     ]
    }
   ],
   "source": [
    "from sklearn.ensemble import RandomForestRegressor, ExtraTreesRegressor\n",
    "from sklearn.linear_model import ElasticNet, BayesianRidge\n",
    "from sklearn.linear_model import Ridge, Lasso\n",
    "from sklearn.svm import SVR\n",
    "from sklearn.neighbors import KNeighborsRegressor\n",
    "from sklearn.neural_network import MLPRegressor\n",
    "from sklearn.tree import DecisionTreeRegressor\n",
    "from sklearn.ensemble import AdaBoostRegressor\n",
    "from sklearn.ensemble import GradientBoostingRegressor\n",
    "from xgboost import XGBRegressor\n",
    "\n",
    "param_RFR = {'n_estimators': [10, 50, 100, 150, 200, 500], 'max_depth': [1, 5, 10, 15, 20]}\n",
    "param_ETR = {'n_estimators': [10, 50, 100, 150, 200, 500], 'max_depth': [1, 5, 10, 15, 20]}\n",
    "param_EN = {'alpha': [0.1, 1.0, 5.0, 10.0], 'l1_ratio': [0.25, 0.5, 0.75]}\n",
    "param_BR = {'alpha_1': [1e-6, 1e-5, 1e-4], 'alpha_2': [1e-6, 1e-5, 1e-4], 'lambda_1': [1e-6, 1e-5, 1e-4], 'lambda_2': [1e-6, 1e-5, 1e-4]}\n",
    "param_Ridge = {'alpha': [0.1, 1.0, 5.0, 10.0]}\n",
    "param_Lasso = {'alpha': [0.1, 1.0, 5.0, 10.0]}\n",
    "param_SVR = {'C': [0.1, 1.0, 5.0, 10.0], 'gamma': ['scale', 'auto']}\n",
    "param_KNN = {'n_neighbors': [3, 5, 7, 9, 11], 'weights': ['uniform', 'distance']}\n",
    "param_MLP = {'hidden_layer_sizes': [(100,), (50, 100, 50), (100, 100, 100)], 'alpha': [0.0001, 0.001, 0.01]}\n",
    "param_DT = {'max_depth': [1, 5, 10, 15, 20]}\n",
    "param_AB = {'n_estimators': [10, 50, 100, 150, 200, 500], 'learning_rate': [0.01, 0.1, 1.0]}\n",
    "param_GB = {'n_estimators': [10, 50, 100, 150, 200, 500], 'learning_rate': [0.01, 0.1, 1.0]}\n",
    "param_XGB = {'n_estimators': [10, 50, 100, 150, 200, 500], 'learning_rate': [0.01, 0.1, 1.0]}\n",
    "\n",
    "models = [RandomForestRegressor(),\n",
    "          ExtraTreesRegressor(),\n",
    "          ElasticNet(),\n",
    "          BayesianRidge(),\n",
    "          Ridge(),\n",
    "          Lasso(),\n",
    "          SVR(),\n",
    "          KNeighborsRegressor(),\n",
    "          MLPRegressor(),\n",
    "          DecisionTreeRegressor(),\n",
    "          AdaBoostRegressor(),\n",
    "          GradientBoostingRegressor(),\n",
    "          XGBRegressor()]\n",
    "\n",
    "params = [param_RFR,\n",
    "          param_ETR,\n",
    "          param_EN,\n",
    "          param_BR,\n",
    "          param_Ridge,\n",
    "          param_Lasso,\n",
    "          param_SVR,\n",
    "          param_KNN,\n",
    "          param_MLP,\n",
    "          param_DT,\n",
    "          param_AB,\n",
    "          param_GB,\n",
    "          param_XGB]\n",
    "\n",
    "top_models = []\n",
    "for model, param in zip(models, params):\n",
    "    grid_search = GridSearchCV(estimator=model, param_grid=param, cv=5, n_jobs=-1)\n",
    "    grid_search.fit(X_train, y_train)  \n",
    "    top_models.append((model.__class__.__name__, grid_search.best_score_, grid_search.best_params_))\n",
    "\n",
    "\n",
    "top_models = sorted(top_models, key=lambda x: x[1], reverse=True)[:5]\n",
    "\n",
    "for model_name, best_score, best_params in top_models:\n",
    "    # Buscamos el índice del modelo en la lista de modelos\n",
    "    model_index = [model.__class__.__name__ for model in models].index(model_name)\n",
    "    # Obtenemos el modelo y lo configuramos con los mejores parámetros\n",
    "    model = models[model_index]\n",
    "    model.set_params(**best_params)\n",
    "    # Ajustamos el modelo y obtenemos las estadísticas\n",
    "    model.fit(X_train, y_train)\n",
    "    test_score = model.score(X_test, y_test)\n",
    "    train_score = model.score(X_train, y_train)\n",
    "    # Imprimimos las estadísticas del modelo\n",
    "    print(f\"Modelo: {model_name}\")\n",
    "    print(f\"Mejores parámetros: {best_params}\")\n",
    "    print(f\"Acierto CV: {best_score:.2f}\")\n",
    "    print(f\"Acierto en entrenamiento: {train_score:.2f}\")\n",
    "    print(f\"Acierto en prueba: {test_score:.2f}\")\n",
    "    print(\"=\"*50)"
   ]
  },
  {
   "cell_type": "markdown",
   "id": "94b6a494",
   "metadata": {},
   "source": [
    "# EVALUACION RMSE"
   ]
  },
  {
   "cell_type": "code",
   "execution_count": 14,
   "id": "0a2fa0f5",
   "metadata": {},
   "outputs": [
    {
     "name": "stdout",
     "output_type": "stream",
     "text": [
      "Modelo: ExtraTreesRegressor\n",
      "Mejores parámetros: {'max_depth': 5, 'n_estimators': 10}\n",
      "Acierto CV: 0.61\n",
      "Acierto en entrenamiento: 0.59\n",
      "Acierto en prueba: 0.39\n",
      "RMSE: 47570.51\n",
      "==================================================\n",
      "Modelo: GradientBoostingRegressor\n",
      "Mejores parámetros: {'learning_rate': 0.1, 'n_estimators': 100}\n",
      "Acierto CV: 0.61\n",
      "Acierto en entrenamiento: 0.59\n",
      "Acierto en prueba: 0.39\n",
      "RMSE: 48454.38\n",
      "==================================================\n",
      "Modelo: RandomForestRegressor\n",
      "Mejores parámetros: {'max_depth': 10, 'n_estimators': 50}\n",
      "Acierto CV: 0.59\n",
      "Acierto en entrenamiento: 0.59\n",
      "Acierto en prueba: 0.39\n",
      "RMSE: 47122.08\n",
      "==================================================\n",
      "Modelo: XGBRegressor\n",
      "Mejores parámetros: {'learning_rate': 0.01, 'n_estimators': 500}\n",
      "Acierto CV: 0.58\n",
      "Acierto en entrenamiento: 0.59\n",
      "Acierto en prueba: 0.39\n",
      "RMSE: 46918.04\n",
      "==================================================\n",
      "Modelo: Lasso\n",
      "Mejores parámetros: {'alpha': 0.1}\n",
      "Acierto CV: 0.57\n",
      "Acierto en entrenamiento: 0.59\n",
      "Acierto en prueba: 0.39\n",
      "RMSE: 48877.39\n",
      "==================================================\n"
     ]
    }
   ],
   "source": [
    "from sklearn.metrics import mean_squared_error\n",
    "import numpy as np\n",
    "\n",
    "for model_name, best_score, best_params in top_models:\n",
    "    # Buscamos el índice del modelo en la lista de modelos\n",
    "    model_index = [model.__class__.__name__ for model in models].index(model_name)\n",
    "    # Obtenemos el modelo y lo configuramos con los mejores parámetros\n",
    "    model = models[model_index]\n",
    "    model.set_params(**best_params)\n",
    "    # Ajustamos el modelo y obtenemos las estadísticas\n",
    "    model.fit(X_train, y_train)\n",
    "    y_pred = model.predict(X_test)\n",
    "    # Calculamos el RMSE\n",
    "    rmse = np.sqrt(mean_squared_error(y_test, y_pred))\n",
    "    # Imprimimos las estadísticas del modelo\n",
    "    print(f\"Modelo: {model_name}\")\n",
    "    print(f\"Mejores parámetros: {best_params}\")\n",
    "    print(f\"Acierto CV: {best_score:.2f}\")\n",
    "    print(f\"Acierto en entrenamiento: {train_score:.2f}\")\n",
    "    print(f\"Acierto en prueba: {test_score:.2f}\")\n",
    "    print(f\"RMSE: {rmse:.2f}\")\n",
    "    print(\"=\"*50)"
   ]
  },
  {
   "cell_type": "markdown",
   "id": "7e2de643",
   "metadata": {},
   "source": [
    "# PREDICCIONES"
   ]
  },
  {
   "cell_type": "code",
   "execution_count": 17,
   "id": "fb42d883",
   "metadata": {},
   "outputs": [
    {
     "data": {
      "text/html": [
       "<style>#sk-container-id-2 {color: black;background-color: white;}#sk-container-id-2 pre{padding: 0;}#sk-container-id-2 div.sk-toggleable {background-color: white;}#sk-container-id-2 label.sk-toggleable__label {cursor: pointer;display: block;width: 100%;margin-bottom: 0;padding: 0.3em;box-sizing: border-box;text-align: center;}#sk-container-id-2 label.sk-toggleable__label-arrow:before {content: \"▸\";float: left;margin-right: 0.25em;color: #696969;}#sk-container-id-2 label.sk-toggleable__label-arrow:hover:before {color: black;}#sk-container-id-2 div.sk-estimator:hover label.sk-toggleable__label-arrow:before {color: black;}#sk-container-id-2 div.sk-toggleable__content {max-height: 0;max-width: 0;overflow: hidden;text-align: left;background-color: #f0f8ff;}#sk-container-id-2 div.sk-toggleable__content pre {margin: 0.2em;color: black;border-radius: 0.25em;background-color: #f0f8ff;}#sk-container-id-2 input.sk-toggleable__control:checked~div.sk-toggleable__content {max-height: 200px;max-width: 100%;overflow: auto;}#sk-container-id-2 input.sk-toggleable__control:checked~label.sk-toggleable__label-arrow:before {content: \"▾\";}#sk-container-id-2 div.sk-estimator input.sk-toggleable__control:checked~label.sk-toggleable__label {background-color: #d4ebff;}#sk-container-id-2 div.sk-label input.sk-toggleable__control:checked~label.sk-toggleable__label {background-color: #d4ebff;}#sk-container-id-2 input.sk-hidden--visually {border: 0;clip: rect(1px 1px 1px 1px);clip: rect(1px, 1px, 1px, 1px);height: 1px;margin: -1px;overflow: hidden;padding: 0;position: absolute;width: 1px;}#sk-container-id-2 div.sk-estimator {font-family: monospace;background-color: #f0f8ff;border: 1px dotted black;border-radius: 0.25em;box-sizing: border-box;margin-bottom: 0.5em;}#sk-container-id-2 div.sk-estimator:hover {background-color: #d4ebff;}#sk-container-id-2 div.sk-parallel-item::after {content: \"\";width: 100%;border-bottom: 1px solid gray;flex-grow: 1;}#sk-container-id-2 div.sk-label:hover label.sk-toggleable__label {background-color: #d4ebff;}#sk-container-id-2 div.sk-serial::before {content: \"\";position: absolute;border-left: 1px solid gray;box-sizing: border-box;top: 0;bottom: 0;left: 50%;z-index: 0;}#sk-container-id-2 div.sk-serial {display: flex;flex-direction: column;align-items: center;background-color: white;padding-right: 0.2em;padding-left: 0.2em;position: relative;}#sk-container-id-2 div.sk-item {position: relative;z-index: 1;}#sk-container-id-2 div.sk-parallel {display: flex;align-items: stretch;justify-content: center;background-color: white;position: relative;}#sk-container-id-2 div.sk-item::before, #sk-container-id-2 div.sk-parallel-item::before {content: \"\";position: absolute;border-left: 1px solid gray;box-sizing: border-box;top: 0;bottom: 0;left: 50%;z-index: -1;}#sk-container-id-2 div.sk-parallel-item {display: flex;flex-direction: column;z-index: 1;position: relative;background-color: white;}#sk-container-id-2 div.sk-parallel-item:first-child::after {align-self: flex-end;width: 50%;}#sk-container-id-2 div.sk-parallel-item:last-child::after {align-self: flex-start;width: 50%;}#sk-container-id-2 div.sk-parallel-item:only-child::after {width: 0;}#sk-container-id-2 div.sk-dashed-wrapped {border: 1px dashed gray;margin: 0 0.4em 0.5em 0.4em;box-sizing: border-box;padding-bottom: 0.4em;background-color: white;}#sk-container-id-2 div.sk-label label {font-family: monospace;font-weight: bold;display: inline-block;line-height: 1.2em;}#sk-container-id-2 div.sk-label-container {text-align: center;}#sk-container-id-2 div.sk-container {/* jupyter's `normalize.less` sets `[hidden] { display: none; }` but bootstrap.min.css set `[hidden] { display: none !important; }` so we also need the `!important` here to be able to override the default hidden behavior on the sphinx rendered scikit-learn.org. See: https://github.com/scikit-learn/scikit-learn/issues/21755 */display: inline-block !important;position: relative;}#sk-container-id-2 div.sk-text-repr-fallback {display: none;}</style><div id=\"sk-container-id-2\" class=\"sk-top-container\"><div class=\"sk-text-repr-fallback\"><pre>ExtraTreesRegressor(max_depth=5, n_estimators=10)</pre><b>In a Jupyter environment, please rerun this cell to show the HTML representation or trust the notebook. <br />On GitHub, the HTML representation is unable to render, please try loading this page with nbviewer.org.</b></div><div class=\"sk-container\" hidden><div class=\"sk-item\"><div class=\"sk-estimator sk-toggleable\"><input class=\"sk-toggleable__control sk-hidden--visually\" id=\"sk-estimator-id-2\" type=\"checkbox\" checked><label for=\"sk-estimator-id-2\" class=\"sk-toggleable__label sk-toggleable__label-arrow\">ExtraTreesRegressor</label><div class=\"sk-toggleable__content\"><pre>ExtraTreesRegressor(max_depth=5, n_estimators=10)</pre></div></div></div></div></div>"
      ],
      "text/plain": [
       "ExtraTreesRegressor(max_depth=5, n_estimators=10)"
      ]
     },
     "execution_count": 17,
     "metadata": {},
     "output_type": "execute_result"
    }
   ],
   "source": [
    "etr = ExtraTreesRegressor(max_depth=5, n_estimators=10)\n",
    "\n",
    "etr.fit(X, y)"
   ]
  },
  {
   "cell_type": "code",
   "execution_count": 18,
   "id": "b2a5521b",
   "metadata": {},
   "outputs": [],
   "source": [
    "Y_pred = etr.predict(test2)"
   ]
  },
  {
   "cell_type": "code",
   "execution_count": 20,
   "id": "8f58fdb9",
   "metadata": {},
   "outputs": [
    {
     "data": {
      "text/html": [
       "<div>\n",
       "<style scoped>\n",
       "    .dataframe tbody tr th:only-of-type {\n",
       "        vertical-align: middle;\n",
       "    }\n",
       "\n",
       "    .dataframe tbody tr th {\n",
       "        vertical-align: top;\n",
       "    }\n",
       "\n",
       "    .dataframe thead th {\n",
       "        text-align: right;\n",
       "    }\n",
       "</style>\n",
       "<table border=\"1\" class=\"dataframe\">\n",
       "  <thead>\n",
       "    <tr style=\"text-align: right;\">\n",
       "      <th></th>\n",
       "      <th>0</th>\n",
       "    </tr>\n",
       "  </thead>\n",
       "  <tbody>\n",
       "    <tr>\n",
       "      <th>0</th>\n",
       "      <td>103879.529490</td>\n",
       "    </tr>\n",
       "    <tr>\n",
       "      <th>1</th>\n",
       "      <td>149008.823861</td>\n",
       "    </tr>\n",
       "    <tr>\n",
       "      <th>2</th>\n",
       "      <td>105083.155786</td>\n",
       "    </tr>\n",
       "    <tr>\n",
       "      <th>3</th>\n",
       "      <td>54364.894043</td>\n",
       "    </tr>\n",
       "    <tr>\n",
       "      <th>4</th>\n",
       "      <td>54125.349573</td>\n",
       "    </tr>\n",
       "    <tr>\n",
       "      <th>...</th>\n",
       "      <td>...</td>\n",
       "    </tr>\n",
       "    <tr>\n",
       "      <th>102</th>\n",
       "      <td>112219.530232</td>\n",
       "    </tr>\n",
       "    <tr>\n",
       "      <th>103</th>\n",
       "      <td>173507.849433</td>\n",
       "    </tr>\n",
       "    <tr>\n",
       "      <th>104</th>\n",
       "      <td>155665.312470</td>\n",
       "    </tr>\n",
       "    <tr>\n",
       "      <th>105</th>\n",
       "      <td>49218.830855</td>\n",
       "    </tr>\n",
       "    <tr>\n",
       "      <th>106</th>\n",
       "      <td>112219.530232</td>\n",
       "    </tr>\n",
       "  </tbody>\n",
       "</table>\n",
       "<p>107 rows × 1 columns</p>\n",
       "</div>"
      ],
      "text/plain": [
       "                 0\n",
       "0    103879.529490\n",
       "1    149008.823861\n",
       "2    105083.155786\n",
       "3     54364.894043\n",
       "4     54125.349573\n",
       "..             ...\n",
       "102  112219.530232\n",
       "103  173507.849433\n",
       "104  155665.312470\n",
       "105   49218.830855\n",
       "106  112219.530232\n",
       "\n",
       "[107 rows x 1 columns]"
      ]
     },
     "execution_count": 20,
     "metadata": {},
     "output_type": "execute_result"
    }
   ],
   "source": [
    "pred = pd.DataFrame(Y_pred)\n",
    "pred.head()"
   ]
  },
  {
   "cell_type": "code",
   "execution_count": 21,
   "id": "f373351d",
   "metadata": {},
   "outputs": [],
   "source": [
    "pred.to_csv('pred.csv', index=True)"
   ]
  },
  {
   "cell_type": "code",
   "execution_count": 22,
   "id": "72152206",
   "metadata": {},
   "outputs": [
    {
     "data": {
      "text/html": [
       "<div>\n",
       "<style scoped>\n",
       "    .dataframe tbody tr th:only-of-type {\n",
       "        vertical-align: middle;\n",
       "    }\n",
       "\n",
       "    .dataframe tbody tr th {\n",
       "        vertical-align: top;\n",
       "    }\n",
       "\n",
       "    .dataframe thead th {\n",
       "        text-align: right;\n",
       "    }\n",
       "</style>\n",
       "<table border=\"1\" class=\"dataframe\">\n",
       "  <thead>\n",
       "    <tr style=\"text-align: right;\">\n",
       "      <th></th>\n",
       "      <th>0</th>\n",
       "    </tr>\n",
       "  </thead>\n",
       "  <tbody>\n",
       "    <tr>\n",
       "      <th>0</th>\n",
       "      <td>87397.539062</td>\n",
       "    </tr>\n",
       "    <tr>\n",
       "      <th>1</th>\n",
       "      <td>130781.781250</td>\n",
       "    </tr>\n",
       "    <tr>\n",
       "      <th>2</th>\n",
       "      <td>104498.992188</td>\n",
       "    </tr>\n",
       "    <tr>\n",
       "      <th>3</th>\n",
       "      <td>36785.035156</td>\n",
       "    </tr>\n",
       "    <tr>\n",
       "      <th>4</th>\n",
       "      <td>31386.679688</td>\n",
       "    </tr>\n",
       "    <tr>\n",
       "      <th>...</th>\n",
       "      <td>...</td>\n",
       "    </tr>\n",
       "    <tr>\n",
       "      <th>102</th>\n",
       "      <td>112908.109375</td>\n",
       "    </tr>\n",
       "    <tr>\n",
       "      <th>103</th>\n",
       "      <td>190932.500000</td>\n",
       "    </tr>\n",
       "    <tr>\n",
       "      <th>104</th>\n",
       "      <td>161044.265625</td>\n",
       "    </tr>\n",
       "    <tr>\n",
       "      <th>105</th>\n",
       "      <td>54359.207031</td>\n",
       "    </tr>\n",
       "    <tr>\n",
       "      <th>106</th>\n",
       "      <td>112908.109375</td>\n",
       "    </tr>\n",
       "  </tbody>\n",
       "</table>\n",
       "<p>107 rows × 1 columns</p>\n",
       "</div>"
      ],
      "text/plain": [
       "                 0\n",
       "0     87397.539062\n",
       "1    130781.781250\n",
       "2    104498.992188\n",
       "3     36785.035156\n",
       "4     31386.679688\n",
       "..             ...\n",
       "102  112908.109375\n",
       "103  190932.500000\n",
       "104  161044.265625\n",
       "105   54359.207031\n",
       "106  112908.109375\n",
       "\n",
       "[107 rows x 1 columns]"
      ]
     },
     "execution_count": 22,
     "metadata": {},
     "output_type": "execute_result"
    }
   ],
   "source": [
    "xgb = XGBRegressor(learning_rate=0.01, n_estimators=500)\n",
    "\n",
    "xgb.fit(X, y)\n",
    "\n",
    "Y_pred2 = xgb.predict(test2)\n",
    "\n",
    "pred2 = pd.DataFrame(Y_pred2)\n",
    "pred2.head()"
   ]
  },
  {
   "cell_type": "code",
   "execution_count": 23,
   "id": "d25009cb",
   "metadata": {},
   "outputs": [],
   "source": [
    "pred2.to_csv('pred2.csv', index=True)"
   ]
  }
 ],
 "metadata": {
  "kernelspec": {
   "display_name": "Python 3 (ipykernel)",
   "language": "python",
   "name": "python3"
  },
  "language_info": {
   "codemirror_mode": {
    "name": "ipython",
    "version": 3
   },
   "file_extension": ".py",
   "mimetype": "text/x-python",
   "name": "python",
   "nbconvert_exporter": "python",
   "pygments_lexer": "ipython3",
   "version": "3.9.13"
  }
 },
 "nbformat": 4,
 "nbformat_minor": 5
}
