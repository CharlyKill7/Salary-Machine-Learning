{
 "cells": [
  {
   "cell_type": "markdown",
   "id": "a2779f85",
   "metadata": {},
   "source": [
    "# IMPORTACIONES"
   ]
  },
  {
   "cell_type": "code",
   "execution_count": 1,
   "id": "aa09cf5a",
   "metadata": {},
   "outputs": [],
   "source": [
    "import warnings  \n",
    "warnings.filterwarnings('ignore')\n",
    "\n",
    "import pandas as pd\n",
    "import numpy as np\n",
    "import matplotlib.pyplot as plt\n",
    "import seaborn as sns"
   ]
  },
  {
   "cell_type": "markdown",
   "id": "ad01f3c9",
   "metadata": {},
   "source": [
    "# EXTRACCIÓN DE DATOS "
   ]
  },
  {
   "cell_type": "code",
   "execution_count": 2,
   "id": "fc7846b2",
   "metadata": {},
   "outputs": [],
   "source": [
    "train = pd.read_csv('data/salaries_data.csv')\n",
    "test = pd.read_csv('data/testeo.csv')"
   ]
  },
  {
   "cell_type": "markdown",
   "id": "3d03f796",
   "metadata": {},
   "source": [
    "# LIMPIEZA BÁSICA"
   ]
  },
  {
   "cell_type": "code",
   "execution_count": 3,
   "id": "25da72e4",
   "metadata": {},
   "outputs": [],
   "source": [
    "train['sal'] = train.salary_in_usd\n",
    "train = train.drop(['salary', 'salary_currency', 'salary_in_usd'], axis=1)"
   ]
  },
  {
   "cell_type": "markdown",
   "id": "f7cd3a16",
   "metadata": {},
   "source": [
    "# TRANSFORMACION DE LOS DATOS"
   ]
  },
  {
   "cell_type": "markdown",
   "id": "59581f7d",
   "metadata": {},
   "source": [
    "### TRAIN VS TEST"
   ]
  },
  {
   "cell_type": "code",
   "execution_count": 4,
   "id": "dab13465",
   "metadata": {},
   "outputs": [
    {
     "data": {
      "text/plain": [
       "(['Principal Data Engineer',\n",
       "  'Principal Data Engineer',\n",
       "  'Principal Data Engineer',\n",
       "  'NLP Engineer'],\n",
       " ['CN', 'PH', 'DK', 'HR', 'IQ', 'CO', 'DK', 'AR', 'TN'],\n",
       " ['IT', 'HR', 'IQ', 'IL', 'RU', 'RU', 'CO', 'IT', 'MY'])"
      ]
     },
     "execution_count": 4,
     "metadata": {},
     "output_type": "execute_result"
    }
   ],
   "source": [
    "tr = train.drop('sal', axis=1)\n",
    "\n",
    "lst_year = [e for e in test.work_year if e not in tr.work_year.unique()]\n",
    "lst_experience_level = [e for e in test.experience_level if e not in tr.experience_level.unique()]\n",
    "lst_employment_type = [e for e in test.employment_type if e not in tr.employment_type.unique()]\n",
    "lst_job = [e for e in test.job_title if e not in tr.job_title.unique()]\n",
    "lst_emp_res = [e for e in test.employee_residence if e not in tr.employee_residence.unique()]\n",
    "lst_remo = [e for e in test.remote_ratio if e not in tr.remote_ratio.unique()]\n",
    "lst_loc = [e for e in test.company_location if e not in tr.company_location.unique()]\n",
    "lst_siz = [e for e in test.company_size if e not in tr.company_size.unique()]\n",
    "\n",
    "lst_job, lst_emp_res, lst_loc"
   ]
  },
  {
   "cell_type": "code",
   "execution_count": 5,
   "id": "75446c01",
   "metadata": {},
   "outputs": [],
   "source": [
    "# Transformación employee_residence\n",
    "paises_res = {'CN':'IN','PH':'MY', 'DK':'CH', 'HR':'RS', 'IQ':'IN', 'CO':'CL','AR':'BR','TN':'IN'}\n",
    "test['employee_residence'] = test['employee_residence'].replace(paises_res)\n",
    "# Transformación company_location\n",
    "paises_loc = {'IT': 'ES', 'HR': 'SI', 'IQ': 'AE', 'IL': 'ES', 'RU': 'UA', 'CO': 'MX', 'MY': 'IN'}\n",
    "test['company_location'] = test['company_location'].replace(paises_loc)\n",
    "#Tranformación job_title\n",
    "test.loc[[23, 39, 45, 79], 'job_title'] = ['Principal Data Analyst', 'Director of Data Engineering', \n",
    "                                           'Head of Data', 'Data Scientist']"
   ]
  },
  {
   "cell_type": "code",
   "execution_count": 6,
   "id": "9bac7544",
   "metadata": {},
   "outputs": [],
   "source": [
    "train2 = train.copy()\n",
    "test2 = test.copy()"
   ]
  },
  {
   "cell_type": "markdown",
   "id": "0e6a1ecb",
   "metadata": {},
   "source": [
    "### TARGET ENCODING"
   ]
  },
  {
   "cell_type": "code",
   "execution_count": null,
   "id": "3f56bf11",
   "metadata": {},
   "outputs": [],
   "source": [
    "\n"
   ]
  },
  {
   "cell_type": "markdown",
   "id": "2c1efea9",
   "metadata": {},
   "source": [
    "### ORDINAL ENCODING"
   ]
  },
  {
   "cell_type": "code",
   "execution_count": null,
   "id": "2790f4f2",
   "metadata": {},
   "outputs": [],
   "source": [
    "\n"
   ]
  },
  {
   "cell_type": "markdown",
   "id": "cd038d6a",
   "metadata": {},
   "source": [
    "### DROP"
   ]
  },
  {
   "cell_type": "code",
   "execution_count": 7,
   "id": "00e7dc71",
   "metadata": {},
   "outputs": [],
   "source": [
    "train2 = train2[['experience_level', 'job_title', 'employee_residence', 'sal']]\n",
    "test2 = test2[['experience_level', 'job_title', 'employee_residence']]"
   ]
  },
  {
   "cell_type": "markdown",
   "id": "c04ba20a",
   "metadata": {},
   "source": [
    "### ONE HOT"
   ]
  },
  {
   "cell_type": "code",
   "execution_count": 8,
   "id": "f8fa734e",
   "metadata": {},
   "outputs": [],
   "source": [
    "# Transf TRAIN\n",
    "train2 = pd.get_dummies(train2, drop_first=False)\n",
    "# Transf TEST\n",
    "test2 = pd.get_dummies(test2, drop_first=False)"
   ]
  },
  {
   "cell_type": "code",
   "execution_count": 9,
   "id": "60eb6a87",
   "metadata": {},
   "outputs": [],
   "source": [
    "# Aquí pongo 'sal' al final del DF.\n",
    "col = train2.pop('sal')\n",
    "train2.insert(len(train2.columns), 'sal', col)"
   ]
  },
  {
   "cell_type": "code",
   "execution_count": null,
   "id": "06cd1c4f",
   "metadata": {},
   "outputs": [],
   "source": []
  },
  {
   "cell_type": "markdown",
   "id": "325a9e01",
   "metadata": {},
   "source": [
    "# MACHINE LEARNING (REGRESORES)"
   ]
  },
  {
   "cell_type": "code",
   "execution_count": 10,
   "id": "72ec730d",
   "metadata": {},
   "outputs": [],
   "source": [
    "import time\n",
    "from sklearn.model_selection import train_test_split as tts\n",
    "from sklearn.model_selection import GridSearchCV \n",
    "from sklearn.metrics import mean_squared_error"
   ]
  },
  {
   "cell_type": "code",
   "execution_count": 11,
   "id": "8d05392b",
   "metadata": {},
   "outputs": [],
   "source": [
    "X = train2.drop('sal', axis=1)\n",
    "y = train2.sal\n",
    "\n",
    "X_train, X_test, y_train, y_test = tts(X, y, test_size=0.2, random_state=42)"
   ]
  },
  {
   "cell_type": "code",
   "execution_count": 12,
   "id": "73e7d850",
   "metadata": {},
   "outputs": [
    {
     "name": "stdout",
     "output_type": "stream",
     "text": [
      "Modelo: Ridge\n",
      "Mejores parámetros: {'alpha': 5.0}\n",
      "Acierto CV: 0.52\n",
      "Acierto en entrenamiento: 0.63\n",
      "Acierto en prueba: 0.40\n",
      "==================================================\n",
      "Modelo: ElasticNet\n",
      "Mejores parámetros: {'alpha': 0.1, 'l1_ratio': 0.75}\n",
      "Acierto CV: 0.52\n",
      "Acierto en entrenamiento: 0.60\n",
      "Acierto en prueba: 0.42\n",
      "==================================================\n",
      "Modelo: GradientBoostingRegressor\n",
      "Mejores parámetros: {'learning_rate': 0.1, 'n_estimators': 100}\n",
      "Acierto CV: 0.51\n",
      "Acierto en entrenamiento: 0.80\n",
      "Acierto en prueba: 0.33\n",
      "==================================================\n",
      "Modelo: XGBRegressor\n",
      "Mejores parámetros: {'learning_rate': 0.1, 'n_estimators': 100}\n",
      "Acierto CV: 0.51\n",
      "Acierto en entrenamiento: 0.84\n",
      "Acierto en prueba: 0.35\n",
      "==================================================\n",
      "Modelo: BayesianRidge\n",
      "Mejores parámetros: {'alpha_1': 1e-06, 'alpha_2': 1e-06, 'lambda_1': 1e-05, 'lambda_2': 0.0001}\n",
      "Acierto CV: 0.50\n",
      "Acierto en entrenamiento: 0.69\n",
      "Acierto en prueba: 0.36\n",
      "==================================================\n"
     ]
    }
   ],
   "source": [
    "from sklearn.ensemble import RandomForestRegressor, ExtraTreesRegressor\n",
    "from sklearn.linear_model import ElasticNet, BayesianRidge\n",
    "from sklearn.linear_model import Ridge, Lasso\n",
    "from sklearn.svm import SVR\n",
    "from sklearn.neighbors import KNeighborsRegressor\n",
    "from sklearn.neural_network import MLPRegressor\n",
    "from sklearn.tree import DecisionTreeRegressor\n",
    "from sklearn.ensemble import AdaBoostRegressor\n",
    "from sklearn.ensemble import GradientBoostingRegressor\n",
    "from xgboost import XGBRegressor\n",
    "\n",
    "param_RFR = {'n_estimators': [10, 50, 100, 150, 200, 500], 'max_depth': [1, 5, 10, 15, 20]}\n",
    "param_ETR = {'n_estimators': [10, 50, 100, 150, 200, 500], 'max_depth': [1, 5, 10, 15, 20]}\n",
    "param_EN = {'alpha': [0.1, 1.0, 5.0, 10.0], 'l1_ratio': [0.25, 0.5, 0.75]}\n",
    "param_BR = {'alpha_1': [1e-6, 1e-5, 1e-4], 'alpha_2': [1e-6, 1e-5, 1e-4], 'lambda_1': [1e-6, 1e-5, 1e-4], 'lambda_2': [1e-6, 1e-5, 1e-4]}\n",
    "param_Ridge = {'alpha': [0.1, 1.0, 5.0, 10.0]}\n",
    "param_Lasso = {'alpha': [0.1, 1.0, 5.0, 10.0]}\n",
    "param_SVR = {'C': [0.1, 1.0, 5.0, 10.0], 'gamma': ['scale', 'auto']}\n",
    "param_KNN = {'n_neighbors': [3, 5, 7, 9, 11], 'weights': ['uniform', 'distance']}\n",
    "param_MLP = {'hidden_layer_sizes': [(100,), (50, 100, 50), (100, 100, 100)], 'alpha': [0.0001, 0.001, 0.01]}\n",
    "param_DT = {'max_depth': [1, 5, 10, 15, 20]}\n",
    "param_AB = {'n_estimators': [10, 50, 100, 150, 200, 500], 'learning_rate': [0.01, 0.1, 1.0]}\n",
    "param_GB = {'n_estimators': [10, 50, 100, 150, 200, 500], 'learning_rate': [0.01, 0.1, 1.0]}\n",
    "param_XGB = {'n_estimators': [10, 50, 100, 150, 200, 500], 'learning_rate': [0.01, 0.1, 1.0]}\n",
    "\n",
    "models = [RandomForestRegressor(),\n",
    "          ExtraTreesRegressor(),\n",
    "          ElasticNet(),\n",
    "          BayesianRidge(),\n",
    "          Ridge(),\n",
    "          Lasso(),\n",
    "          SVR(),\n",
    "          KNeighborsRegressor(),\n",
    "          MLPRegressor(),\n",
    "          DecisionTreeRegressor(),\n",
    "          AdaBoostRegressor(),\n",
    "          GradientBoostingRegressor(),\n",
    "          XGBRegressor()]\n",
    "\n",
    "params = [param_RFR,\n",
    "          param_ETR,\n",
    "          param_EN,\n",
    "          param_BR,\n",
    "          param_Ridge,\n",
    "          param_Lasso,\n",
    "          param_SVR,\n",
    "          param_KNN,\n",
    "          param_MLP,\n",
    "          param_DT,\n",
    "          param_AB,\n",
    "          param_GB,\n",
    "          param_XGB]\n",
    "\n",
    "top_models = []\n",
    "for model, param in zip(models, params):\n",
    "    grid_search = GridSearchCV(estimator=model, param_grid=param, cv=5, n_jobs=-1)\n",
    "    grid_search.fit(X_train, y_train)  \n",
    "    top_models.append((model.__class__.__name__, grid_search.best_score_, grid_search.best_params_))\n",
    "\n",
    "\n",
    "top_models = sorted(top_models, key=lambda x: x[1], reverse=True)[:5]\n",
    "\n",
    "for model_name, best_score, best_params in top_models:\n",
    "    # Buscamos el índice del modelo en la lista de modelos\n",
    "    model_index = [model.__class__.__name__ for model in models].index(model_name)\n",
    "    # Obtenemos el modelo y lo configuramos con los mejores parámetros\n",
    "    model = models[model_index]\n",
    "    model.set_params(**best_params)\n",
    "    # Ajustamos el modelo y obtenemos las estadísticas\n",
    "    model.fit(X_train, y_train)\n",
    "    test_score = model.score(X_test, y_test)\n",
    "    train_score = model.score(X_train, y_train)\n",
    "    # Imprimimos las estadísticas del modelo\n",
    "    print(f\"Modelo: {model_name}\")\n",
    "    print(f\"Mejores parámetros: {best_params}\")\n",
    "    print(f\"Acierto CV: {best_score:.2f}\")\n",
    "    print(f\"Acierto en entrenamiento: {train_score:.2f}\")\n",
    "    print(f\"Acierto en prueba: {test_score:.2f}\")\n",
    "    print(\"=\"*50)"
   ]
  },
  {
   "cell_type": "markdown",
   "id": "5e281977",
   "metadata": {},
   "source": [
    "# EVALUACION RMSE"
   ]
  },
  {
   "cell_type": "code",
   "execution_count": 13,
   "id": "a7b7b07d",
   "metadata": {},
   "outputs": [
    {
     "name": "stdout",
     "output_type": "stream",
     "text": [
      "Modelo: Ridge\n",
      "Mejores parámetros: {'alpha': 5.0}\n",
      "Acierto CV: 0.52\n",
      "Acierto en entrenamiento: 0.69\n",
      "Acierto en prueba: 0.36\n",
      "RMSE: 48467.38\n",
      "==================================================\n",
      "Modelo: ElasticNet\n",
      "Mejores parámetros: {'alpha': 0.1, 'l1_ratio': 0.75}\n",
      "Acierto CV: 0.52\n",
      "Acierto en entrenamiento: 0.69\n",
      "Acierto en prueba: 0.36\n",
      "RMSE: 47736.97\n",
      "==================================================\n",
      "Modelo: GradientBoostingRegressor\n",
      "Mejores parámetros: {'learning_rate': 0.1, 'n_estimators': 100}\n",
      "Acierto CV: 0.51\n",
      "Acierto en entrenamiento: 0.69\n",
      "Acierto en prueba: 0.36\n",
      "RMSE: 50588.25\n",
      "==================================================\n",
      "Modelo: XGBRegressor\n",
      "Mejores parámetros: {'learning_rate': 0.1, 'n_estimators': 100}\n",
      "Acierto CV: 0.51\n",
      "Acierto en entrenamiento: 0.69\n",
      "Acierto en prueba: 0.36\n",
      "RMSE: 50416.91\n",
      "==================================================\n",
      "Modelo: BayesianRidge\n",
      "Mejores parámetros: {'alpha_1': 1e-06, 'alpha_2': 1e-06, 'lambda_1': 1e-05, 'lambda_2': 0.0001}\n",
      "Acierto CV: 0.50\n",
      "Acierto en entrenamiento: 0.69\n",
      "Acierto en prueba: 0.36\n",
      "RMSE: 50036.42\n",
      "==================================================\n"
     ]
    }
   ],
   "source": [
    "from sklearn.metrics import mean_squared_error\n",
    "import numpy as np\n",
    "\n",
    "for model_name, best_score, best_params in top_models:\n",
    "    # Buscamos el índice del modelo en la lista de modelos\n",
    "    model_index = [model.__class__.__name__ for model in models].index(model_name)\n",
    "    # Obtenemos el modelo y lo configuramos con los mejores parámetros\n",
    "    model = models[model_index]\n",
    "    model.set_params(**best_params)\n",
    "    # Ajustamos el modelo y obtenemos las estadísticas\n",
    "    model.fit(X_train, y_train)\n",
    "    y_pred = model.predict(X_test)\n",
    "    # Calculamos el RMSE\n",
    "    rmse = np.sqrt(mean_squared_error(y_test, y_pred))\n",
    "    # Imprimimos las estadísticas del modelo\n",
    "    print(f\"Modelo: {model_name}\")\n",
    "    print(f\"Mejores parámetros: {best_params}\")\n",
    "    print(f\"Acierto CV: {best_score:.2f}\")\n",
    "    print(f\"Acierto en entrenamiento: {train_score:.2f}\")\n",
    "    print(f\"Acierto en prueba: {test_score:.2f}\")\n",
    "    print(f\"RMSE: {rmse:.2f}\")\n",
    "    print(\"=\"*50)"
   ]
  },
  {
   "cell_type": "code",
   "execution_count": null,
   "id": "13b3cdbe",
   "metadata": {},
   "outputs": [],
   "source": []
  },
  {
   "cell_type": "code",
   "execution_count": null,
   "id": "8047c561",
   "metadata": {},
   "outputs": [],
   "source": []
  }
 ],
 "metadata": {
  "kernelspec": {
   "display_name": "Python 3 (ipykernel)",
   "language": "python",
   "name": "python3"
  },
  "language_info": {
   "codemirror_mode": {
    "name": "ipython",
    "version": 3
   },
   "file_extension": ".py",
   "mimetype": "text/x-python",
   "name": "python",
   "nbconvert_exporter": "python",
   "pygments_lexer": "ipython3",
   "version": "3.9.13"
  }
 },
 "nbformat": 4,
 "nbformat_minor": 5
}
